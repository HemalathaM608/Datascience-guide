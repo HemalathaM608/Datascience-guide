{
  "nbformat": 4,
  "nbformat_minor": 0,
  "metadata": {
    "colab": {
      "name": "4Hemalatha_M_DataScience_Internship_March2022.ipynb",
      "provenance": [],
      "collapsed_sections": []
    },
    "kernelspec": {
      "name": "python3",
      "display_name": "Python 3"
    },
    "language_info": {
      "name": "python"
    }
  },
  "cells": [
    {
      "cell_type": "code",
      "execution_count": 7,
      "metadata": {
        "colab": {
          "base_uri": "https://localhost:8080/",
          "height": 521
        },
        "id": "v79B2VyC86xl",
        "outputId": "82ae74ca-b877-4e80-cc72-c2d7ff8d86fc"
      },
      "outputs": [
        {
          "output_type": "stream",
          "name": "stdout",
          "text": [
            "[[ 1.5]\n",
            " [10.3]\n",
            " [ 4.1]\n",
            " [ 3.9]\n",
            " [ 9.5]\n",
            " [ 8.7]\n",
            " [ 9.6]\n",
            " [ 4. ]\n",
            " [ 5.3]\n",
            " [ 7.9]]\n",
            "[ 40835.10590871 123079.39940819  65134.55626083  63265.36777221\n",
            " 115602.64545369 108125.8914992  116537.23969801  64199.96201652\n",
            "  76349.68719258 100649.1375447 ]\n"
          ]
        },
        {
          "output_type": "display_data",
          "data": {
            "text/plain": [
              "<Figure size 432x288 with 1 Axes>"
            ],
            "image/png": "[encoded data removed]"
          },
          "metadata": {
            "needs_background": "light"
          }
        }
      ],
      "source": [
        "#importing libraries\n",
        "import numpy as np\n",
        "import pandas as pd\n",
        "import matplotlib.pyplot as plt\n",
        "#importing the dataset\n",
        "data = pd.read_csv('salary.csv')\n",
        "#print (data)\n",
        "x = data.iloc[:,:-1].values\n",
        "y = data.iloc[:,1].values\n",
        "#spliting the data\n",
        "from sklearn.model_selection import train_test_split\n",
        "x_train,x_test, y_train, y_test = train_test_split(x,y,test_size = 1/3, random_state=0)\n",
        "print(x_test)\n",
        "#filtering the model\n",
        "from sklearn.linear_model import LinearRegression\n",
        "regressor = LinearRegression()\n",
        "regressor.fit(x_train,y_train)\n",
        "y_pred = regressor.predict(x_test)\n",
        "print(y_pred)\n",
        "#visualisating the result\n",
        "plt.scatter(x_train,y_train,color = 'red')\n",
        "plt.plot(x_train, regressor.predict(x_train), color = 'blue')\n",
        "plt.title('Salary vs Experience')\n",
        "plt.xlabel('yrs of exp')\n",
        "plt.ylabel('salary')\n",
        "plt.show()"
      ]
    }
  ]
}